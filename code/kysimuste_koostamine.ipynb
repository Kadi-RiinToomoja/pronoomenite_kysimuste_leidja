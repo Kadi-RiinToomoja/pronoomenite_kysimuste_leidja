{
 "cells": [
  {
   "cell_type": "markdown",
   "id": "f0d3dfda",
   "metadata": {},
   "source": [
    "# Küsimuste koostamine"
   ]
  },
  {
   "cell_type": "markdown",
   "id": "4641b175",
   "metadata": {},
   "source": [
    "Kood, mis võtab sisendiks faili 'lausesisesed_anafoorid.xlsx' ja annab väljundiks faili 'lausesisesed_anafoorid_kusimustega.xlsx'. \\\n",
    "\\\n",
    "Sisendfail '**lausesisesed_anafoorid.xlsx**', sisaldab ainult lausesisese anafoori märgendusega ('1') lauseid. \\\n",
    "\\\n",
    "Väljundfail '**lausesisesed_anafoorid_kusimustega.xlsx**', sisaldab faili 'lausesisesed_anafoorid.xlsx' andmeid kuhu on lisatud tulp 'question' iga rea kohta - küsimus lauses leiduva anafoori kohta.\n",
    "\n",
    "Väljundfaili tulpade tähendused:\n",
    "* **Index** - lause järjekorra indeks failis,\n",
    "* **Unnamed: 0** - lause indeks, mis on sama failis 'lausesisesed_anafoorid.xlsx' oleva indeksiga ja ühevõrra väiksem failis 'asesonad_lausetes_margendatud.xlsx' oleva indeksiga,\n",
    "* **Label** - käsitsi lisatud märgend, mis näitab, kas anafoor on lausesisene ('1'), lauseväline ('2') või pole tegemist anafooriga ('0'). Samuti leidub failis ka märgendusega '-1' lauseid (s.t tegu on veaga/märgitud sõna pole asesõna) ja märgendusega '3', kus olenevalt lause tõlegndusest võib, anafoor olla nii lausesisene kui ka väline. Antud failis on ainult märgendiga '1' ehk lausesiseste anafooridega laused,\n",
    "* **pronoun** - lauses leiduv asesõna,\n",
    "* **pronoun lemma** - lauses leiduva asesõna lemma,\n",
    "* **pronoun sentence** - lause, kus selles leiduv asesõna on ümbritsetud topelt tärnidega - \\*\\*<asesõna>\\*\\*,\n",
    "* **question** - automaatselt koostatud küsimus, mis on moodustatud lauses märgitud asesõna kohta."
   ]
  },
  {
   "cell_type": "code",
   "execution_count": null,
   "id": "7fafcbc9",
   "metadata": {},
   "outputs": [],
   "source": [
    "# Vajalike pakkide installimine (vajadusel)\n",
    "!pip install estnltk_neural\n",
    "!pip install stanza"
   ]
  },
  {
   "cell_type": "code",
   "execution_count": 1,
   "id": "92eba303",
   "metadata": {},
   "outputs": [
    {
     "name": "stderr",
     "output_type": "stream",
     "text": [
      "C:\\Users\\riintoom\\AppData\\Local\\anaconda3\\Lib\\site-packages\\transformers\\utils\\generic.py:260: UserWarning: torch.utils._pytree._register_pytree_node is deprecated. Please use torch.utils._pytree.register_pytree_node instead.\n",
      "  torch.utils._pytree._register_pytree_node(\n"
     ]
    }
   ],
   "source": [
    "# Vajalike teekide import\n",
    "from estnltk import Text\n",
    "from estnltk import download\n",
    "from estnltk_neural.taggers import StanzaSyntaxTagger\n",
    "from estnltk.taggers import SyntaxDependencyRetagger\n",
    "import pandas as pd"
   ]
  },
  {
   "cell_type": "code",
   "execution_count": 1,
   "id": "a7f29df6",
   "metadata": {
    "collapsed": true
   },
   "outputs": [
    {
     "ename": "NameError",
     "evalue": "name 'download' is not defined",
     "output_type": "error",
     "traceback": [
      "\u001b[1;31m---------------------------------------------------------------------------\u001b[0m",
      "\u001b[1;31mNameError\u001b[0m                                 Traceback (most recent call last)",
      "Cell \u001b[1;32mIn[1], line 1\u001b[0m\n\u001b[1;32m----> 1\u001b[0m download(\u001b[38;5;124m'\u001b[39m\u001b[38;5;124mstanzasyntaxtagger\u001b[39m\u001b[38;5;124m'\u001b[39m)\n",
      "\u001b[1;31mNameError\u001b[0m: name 'download' is not defined"
     ]
    }
   ],
   "source": [
    "# Laeb alla stanzasyntaxtaggeri\n",
    "download('stanzasyntaxtagger')"
   ]
  },
  {
   "cell_type": "code",
   "execution_count": 28,
   "id": "badb0f8b",
   "metadata": {},
   "outputs": [
    {
     "name": "stderr",
     "output_type": "stream",
     "text": [
      "Downloading resources index: 20.1kB [00:00, 2.24MB/s]\n"
     ]
    }
   ],
   "source": [
    "# Initsialiseerib stanza taggeri ja retaggeri\n",
    "stanza_tagger = StanzaSyntaxTagger(input_type='morph_analysis', input_morph_layer='morph_analysis')\n",
    "retagger = SyntaxDependencyRetagger('stanza_syntax')"
   ]
  },
  {
   "cell_type": "code",
   "execution_count": 38,
   "id": "71142318",
   "metadata": {},
   "outputs": [],
   "source": [
    "# Loeb sisse andmed (lausesiseste anafooridega lausete tabel)\n",
    "df = pd.read_excel('lausesisesed_anafoorid.xlsx')\n",
    "\n",
    "# Kogub laused ja anafoorid listidesse\n",
    "sentences = df[\"pronoun sentence\"].tolist()\n",
    "pronouns = df[\"pronoun\"].tolist()"
   ]
  },
  {
   "cell_type": "code",
   "execution_count": 41,
   "id": "8c3d11e5",
   "metadata": {},
   "outputs": [],
   "source": [
    "# Loob asendussõnastiku ja lisab sinna kirjed iga käände jaoks\n",
    "replace_dict = dict.fromkeys(['see', 'need', 'too', 'nood'], \"mis\")\n",
    "replace_dict.update(dict.fromkeys(['ma', 'mina', 'sa', 'sina', 'ta', 'tema', 'me', 'meie', 'te', 'teie', 'nad', 'nemad', 'ise'], \"kes\"))\n",
    "replace_dict.update(dict.fromkeys(['selle'], \"mille\"))\n",
    "replace_dict.update(dict.fromkeys(['nende', 'enese', 'enda', 'oma', 'minu', 'sinu' ], \"kelle\"))\n",
    "replace_dict.update(dict.fromkeys(['seda'], \"mida\"))\n",
    "replace_dict.update(dict.fromkeys(['neid', 'ennast', 'end', 'mind', 'sind', 'teda', 'meid', 'teid'], \"keda\"))\n",
    "replace_dict.update(dict.fromkeys(['sellesse', 'sesse'], \"millesse\"))\n",
    "replace_dict.update(dict.fromkeys(['nendesse', 'neisse', 'enesesse', 'endasse', 'omasse', 'minusse', 'sinusse', 'temasse','nendesse', 'temasse' ], \"kellesse\"))\n",
    "replace_dict.update(dict.fromkeys(['selles', 'ses'], \"milles\"))\n",
    "replace_dict.update(dict.fromkeys(['nendes', 'neis', 'eneses', 'endas', 'omas', 'minus', 'sinus', 'temas'], \"kelles\"))\n",
    "replace_dict.update(dict.fromkeys(['sellest', 'sest'], \"millest\"))\n",
    "replace_dict.update(dict.fromkeys(['nendest', 'neist', 'enesest', 'endast', 'omast', 'minust', 'sinust', 'temast'], \"kellest\"))\n",
    "replace_dict.update(dict.fromkeys(['sellele'], \"millele\"))\n",
    "replace_dict.update(dict.fromkeys(['nendele', 'neile', 'enesele', 'endale', 'omale', 'minule', 'sinule', 'temale'], \"kellele\"))\n",
    "replace_dict.update(dict.fromkeys(['sellel', 'sel'], \"millel\"))\n",
    "replace_dict.update(dict.fromkeys(['nendel', 'neil', 'enesel', 'endal', 'omal', 'minul', 'sinul', 'temal'], \"kellel\"))\n",
    "replace_dict.update(dict.fromkeys(['sellelt', 'selt'], \"millelt\"))\n",
    "replace_dict.update(dict.fromkeys(['nendelt', 'neilt', 'eneselt', 'endalt', 'omalt', 'minult', 'sinult', 'temalt'], \"kellelt\"))\n",
    "replace_dict.update(dict.fromkeys(['selleks', 'seks'], \"milleks\"))\n",
    "replace_dict.update(dict.fromkeys(['nendeks', 'neiks', 'eneseks', 'endaks', 'omaks', 'minuks', 'meieks', 'sinuks', 'teieks', 'temaks'], \"kelleks\"))\n",
    "replace_dict.update(dict.fromkeys(['selleni'], \"milleni\"))\n",
    "replace_dict.update(dict.fromkeys(['nendeni', 'eneseni', 'endani', 'omani', 'minuni', 'meieni', 'sinuni', 'teieni', 'temani'], \"kelleni\"))\n",
    "replace_dict.update(dict.fromkeys(['sellena'], \"millena\"))\n",
    "replace_dict.update(dict.fromkeys(['nendena', 'enesena', 'endana', 'omana', 'minuna', 'meiena', 'sinuna', 'teiena', 'temana'], \"kellena\"))\n",
    "replace_dict.update(dict.fromkeys(['selleta'], \"milleta\"))\n",
    "replace_dict.update(dict.fromkeys(['nendeta', 'eneseta', 'endata', 'omata', 'minuta', 'meieta', 'sinuta', 'teieta', 'temata'], \"kelleta\"))\n",
    "replace_dict.update(dict.fromkeys(['sellega'], \"millega\"))\n",
    "replace_dict.update(dict.fromkeys(['nendega', 'enesega', 'endaga', 'omaga', 'minuga', 'meiega', 'sinuga', 'teiega', 'temaga'], \"kellega\"))\n",
    "\n",
    "replace_dict_keys = list(replace_dict.keys())"
   ]
  },
  {
   "cell_type": "code",
   "execution_count": 42,
   "id": "d679fc55",
   "metadata": {
    "scrolled": true
   },
   "outputs": [],
   "source": [
    "# Järjend kuhu hakatakse koguma moodustatud küsimusi\n",
    "questions = []\n",
    "\n",
    "# Tsükkel, mis käib läbi kõik laused\n",
    "for i in range(len(sentences)):\n",
    "    sentence = sentences[i]\n",
    "    # Eemdalab asesõna tähistavad/ümbritsevad '**' sümbolid\n",
    "    sentence = sentence.replace(\"**\", '')\n",
    "\n",
    "    # Märgendab teksti morfoloogilise analüüsiga, stanza taggeri ja retaggeriga\n",
    "    text = Text(sentence)\n",
    "    text.tag_layer('morph_analysis')\n",
    "    stanza_tagger.tag( text )\n",
    "    retagger.retag(text)\n",
    "\n",
    "    # Võtab lauses leiduva asesõna\n",
    "    pronoun = pronouns[i]\n",
    "    \n",
    "    # Leiab lauses leiduva asesõna\n",
    "    for token in text.stanza_syntax:\n",
    "        if token.text != pronoun:\n",
    "            continue\n",
    "\n",
    "\n",
    "        index = token[\"head\"]\n",
    "        parent = text.stanza_syntax[index-1]\n",
    "\n",
    "    \n",
    "    # Leiab lauses leiduva asesõna 'lapsed'\n",
    "    word_list = list(parent.children)\n",
    "    result = [parent]\n",
    "\n",
    "    # Leiab kõigi asesõna 'laste' 'lapsed' ja omakorda nende 'lapsed' kuni rohkem lapsi ei ole\n",
    "    while len(word_list) > 0:\n",
    "        word = word_list.pop()\n",
    "        result.append(word)\n",
    "        word_list.extend(word.children)\n",
    "\n",
    "    # järjend kuhu hakatakse üksikut küsimust moodustama\n",
    "    question = []\n",
    "    \n",
    "    for token in text.stanza_syntax:\n",
    "        # Kui sõna ei ole üks asesõna 'lastest' (või 'laste-lastest' jne)\n",
    "        if token not in result:\n",
    "            continue\n",
    "        \n",
    "        # Kui sõna on kirjavahemärk, aga küsimuses on vähem kui kaks liiget, siis jäta see kirjavahemärk vahele\n",
    "        if len(question) < 2  and token[\"upostag\"] == \"Z\":\n",
    "            continue\n",
    "        \n",
    "        # Kui sõna on sidesõna, aga küsimusse pole veel ühtegi sõna lisatud, siis jäta see sõna vahele\n",
    "        if len(question) == 0 and token[\"upostag\"] == \"J\":\n",
    "            continue\n",
    "        \n",
    "        # Kui tegu on otsitava asesõnaga lisa see küsimuse algusesse\n",
    "        if token[\"upostag\"] == \"P\" and token.text == pronoun:\n",
    "            question.insert(0, token.text)\n",
    "\n",
    "        # Tegu on mõne asesõna 'lapsega' (või 'lapse-lapsega' jne) - lisa sõna küsimusse\n",
    "        else:\n",
    "            question.append(token.text)\n",
    "        \n",
    "    # Asenda esimene asesõna küsisõnaga sõnastiku alusel\n",
    "    if len(question) != 0:\n",
    "        if question[0].lower() in replace_dict_keys:\n",
    "            asendus = replace_dict.get(question[0].lower())\n",
    "            question[0] = asendus\n",
    "    \n",
    "    # Lisab moodustavale lausele küsimärgi\n",
    "    question.append(\"?\")\n",
    "    \n",
    "    # Seo küsimuse osad kokku üheks sõneks \n",
    "    result_question = \" \".join(question)\n",
    "    # Lisa küsimus küsimuste listi\n",
    "    questions.append(result_question)\n",
    "    "
   ]
  },
  {
   "cell_type": "code",
   "execution_count": 43,
   "id": "96ca6ea8",
   "metadata": {},
   "outputs": [],
   "source": [
    "# Lisab algsele tabelile moodustatud küsimuste tulba\n",
    "df.insert(5, \"question\", questions, False)"
   ]
  },
  {
   "cell_type": "code",
   "execution_count": 2,
   "id": "70acc07d",
   "metadata": {},
   "outputs": [
    {
     "ename": "NameError",
     "evalue": "name 'pd' is not defined",
     "output_type": "error",
     "traceback": [
      "\u001b[1;31m---------------------------------------------------------------------------\u001b[0m",
      "\u001b[1;31mNameError\u001b[0m                                 Traceback (most recent call last)",
      "Cell \u001b[1;32mIn[2], line 1\u001b[0m\n\u001b[1;32m----> 1\u001b[0m writer \u001b[38;5;241m=\u001b[39m pd\u001b[38;5;241m.\u001b[39mExcelWriter(\u001b[38;5;124m\"\u001b[39m\u001b[38;5;124mlausesisesed_anafoorid_kusimustega_viimased_500.xlsx\u001b[39m\u001b[38;5;124m\"\u001b[39m, engine\u001b[38;5;241m=\u001b[39m\u001b[38;5;124m\"\u001b[39m\u001b[38;5;124mxlsxwriter\u001b[39m\u001b[38;5;124m\"\u001b[39m, engine_kwargs\u001b[38;5;241m=\u001b[39m{\u001b[38;5;124m\"\u001b[39m\u001b[38;5;124moptions\u001b[39m\u001b[38;5;124m\"\u001b[39m: {\u001b[38;5;124m\"\u001b[39m\u001b[38;5;124mstrings_to_formulas\u001b[39m\u001b[38;5;124m\"\u001b[39m: \u001b[38;5;28;01mFalse\u001b[39;00m}},\n\u001b[0;32m      2\u001b[0m )\n\u001b[0;32m      4\u001b[0m \u001b[38;5;28;01mwith\u001b[39;00m writer \u001b[38;5;28;01mas\u001b[39;00m writer:\n\u001b[0;32m      5\u001b[0m     df\u001b[38;5;241m.\u001b[39mto_excel(writer)\n",
      "\u001b[1;31mNameError\u001b[0m: name 'pd' is not defined"
     ]
    }
   ],
   "source": [
    "# Salvestab küsimustega täiendatud tabeli faili 'lausesisesed_anafoorid_kusimustega.xlsx'\n",
    "writer = pd.ExcelWriter(\"lausesisesed_anafoorid_kusimustega.xlsx\", engine=\"xlsxwriter\", engine_kwargs={\"options\": {\"strings_to_formulas\": False}},\n",
    ")\n",
    "\n",
    "with writer as writer:\n",
    "    df.to_excel(writer)"
   ]
  }
 ],
 "metadata": {
  "kernelspec": {
   "display_name": "Python 3 (ipykernel)",
   "language": "python",
   "name": "python3"
  },
  "language_info": {
   "codemirror_mode": {
    "name": "ipython",
    "version": 3
   },
   "file_extension": ".py",
   "mimetype": "text/x-python",
   "name": "python",
   "nbconvert_exporter": "python",
   "pygments_lexer": "ipython3",
   "version": "3.11.5"
  }
 },
 "nbformat": 4,
 "nbformat_minor": 5
}
