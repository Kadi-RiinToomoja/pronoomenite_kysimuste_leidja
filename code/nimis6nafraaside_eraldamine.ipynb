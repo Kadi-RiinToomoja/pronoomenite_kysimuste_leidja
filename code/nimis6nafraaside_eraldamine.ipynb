{
 "cells": [
  {
   "cell_type": "markdown",
   "id": "f0d3dfda",
   "metadata": {},
   "source": [
    "# Nimisõnafraaside eraldamine"
   ]
  },
  {
   "cell_type": "markdown",
   "id": "4641b175",
   "metadata": {},
   "source": [
    "Kood, mis võtab sisendiks faili 'lausesisesed_anafoorid_kusimustega.xlsx' ja annab väljundiks faili 'lausesisesed_anafoorid_nimisonafraasidega.xlsx'. \n",
    "\n",
    "Väljundfaili tulpade tähendused:\n",
    "* **Index** - lause järjekorra indeks failis,\n",
    "* **Unnamed: 0** - lause indeks, mis on sama failis 'lausesisesed_anafoorid.xlsx' oleva indeksiga ja ühevõrra väiksem failis 'asesonad_lausetes_margendatud.xlsx' oleva indeksiga,\n",
    "* **Label** - käsitsi lisatud märgend, mis näitab, kas anafoor on lausesisene ('1'), lauseväline ('2') või pole tegemist anafooriga ('0'). Samuti leidub failis ka märgendusega '-1' lauseid (s.t tegu on veaga/märgitud sõna pole asesõna) ja märgendusega '3', kus olenevalt lause tõlegndusest võib, anafoor olla nii lausesisene kui ka väline. Antud failis on ainult märgendiga '1' ehk lausesiseste anafooridega laused,\n",
    "* **pronoun** - lauses leiduv asesõna,\n",
    "* **pronoun lemma** - lauses leiduva asesõna lemma,\n",
    "* **pronoun sentence** - lause, kus selles leiduv asesõna on ümbritsetud topelt tärnidega - \\*\\*<asesõna>\\*\\*,\n",
    "* **question** - automaatselt koostatud küsimus, mis on moodustatud lauses märgitud asesõna kohta.\n",
    "* **N_phrases** - lauses leiduvate nimisõnafraaside juured"
   ]
  },
  {
   "cell_type": "code",
   "execution_count": 1,
   "id": "92eba303",
   "metadata": {},
   "outputs": [
    {
     "name": "stderr",
     "output_type": "stream",
     "text": [
      "C:\\Users\\riintoom\\AppData\\Local\\anaconda3\\Lib\\site-packages\\transformers\\utils\\generic.py:260: UserWarning: torch.utils._pytree._register_pytree_node is deprecated. Please use torch.utils._pytree.register_pytree_node instead.\n",
      "  torch.utils._pytree._register_pytree_node(\n"
     ]
    }
   ],
   "source": [
    "# Vajalike teekide import\n",
    "from estnltk import Text\n",
    "from estnltk import download\n",
    "from estnltk_neural.taggers import StanzaSyntaxTagger\n",
    "from estnltk.taggers.standard.syntax.phrase_extraction.phrase_extractor import PhraseExtractor\n",
    "import pandas as pd"
   ]
  },
  {
   "cell_type": "code",
   "execution_count": 2,
   "id": "9769392e",
   "metadata": {},
   "outputs": [],
   "source": [
    "def phrases(lause, extractor_1, extractor_2, extractor_3, extractor_4, extractor_5, extractor_6, extractor_7, extractor_8):\n",
    "    lause = Text(lause).tag_layer()\n",
    "    #uudis.tag_layer('morph_extended')\n",
    "    stanza_tagger.tag(lause)\n",
    "    extractor_1.tag(lause)\n",
    "    extractor_2.tag(lause)\n",
    "    extractor_3.tag(lause)\n",
    "    extractor_4.tag(lause)\n",
    "    extractor_5.tag(lause)\n",
    "    extractor_6.tag(lause)\n",
    "    extractor_7.tag(lause)\n",
    "    extractor_8.tag(lause)\n",
    "    return lause"
   ]
  },
  {
   "cell_type": "code",
   "execution_count": 3,
   "id": "a7f29df6",
   "metadata": {},
   "outputs": [
    {
     "name": "stdout",
     "output_type": "stream",
     "text": [
      "Resource 'stanza_syntax_2023-01-21' has already been downloaded.\n"
     ]
    },
    {
     "data": {
      "text/plain": [
       "True"
      ]
     },
     "execution_count": 3,
     "metadata": {},
     "output_type": "execute_result"
    }
   ],
   "source": [
    "# Laeb alla stanzasyntaxtaggeri\n",
    "download('stanzasyntaxtagger')"
   ]
  },
  {
   "cell_type": "code",
   "execution_count": 4,
   "id": "badb0f8b",
   "metadata": {},
   "outputs": [],
   "source": [
    "# Initsialiseerib stanza taggeri ja retaggeri\n",
    "stanza_tagger = StanzaSyntaxTagger(input_type='morph_analysis', input_morph_layer='morph_analysis')\n"
   ]
  },
  {
   "cell_type": "code",
   "execution_count": 5,
   "id": "b2621fc6",
   "metadata": {},
   "outputs": [],
   "source": [
    "# Initsialiseerib vajalikud PhraseExtractorid\n",
    "extractor_nusbj = PhraseExtractor(deprel='nsubj', output_layer='nsubj_phrases')\n",
    "extractor_obl = PhraseExtractor(deprel='obl', output_layer='obl_phrases')\n",
    "extractor_obj = PhraseExtractor(deprel='obj', output_layer='obj_phrases')\n",
    "extractor_nmod = PhraseExtractor(deprel='nmod', output_layer='nmod_phrases')\n",
    "extractor_conj = PhraseExtractor(deprel='conj', output_layer='conj_phrases')\n",
    "extractor_root = PhraseExtractor(deprel='root', output_layer='root_phrases')\n",
    "extractor_appos = PhraseExtractor(deprel='appos', output_layer='appos_phrases')\n",
    "extractor_iobj = PhraseExtractor(deprel='iobj', output_layer='iobj_phrases')"
   ]
  },
  {
   "cell_type": "code",
   "execution_count": 6,
   "id": "71142318",
   "metadata": {},
   "outputs": [],
   "source": [
    "# Loeb sisse andmed (lausesiseste anafooridega lausete tabel)\n",
    "df = pd.read_excel('lausesisesed_anafoorid_kusimustega.xlsx')\n",
    "laused = df[\"pronoun sentence\"].tolist()"
   ]
  },
  {
   "cell_type": "code",
   "execution_count": 8,
   "id": "d5947edc",
   "metadata": {},
   "outputs": [],
   "source": [
    "# Leiab igast lauses nimisõnafraaside juured\n",
    "result = []\n",
    "\n",
    "for lause in laused:\n",
    "    lause = lause.replace(\"*\", \"\")\n",
    "    margendatud = phrases(lause, extractor_nusbj, extractor_obl, extractor_obj, extractor_nmod, extractor_conj, extractor_root, extractor_appos, extractor_iobj)\n",
    "    nimisonafraasid = []\n",
    "    \n",
    "    for el in margendatud.nsubj_phrases:\n",
    "        if el.root.upostag != 'P':\n",
    "            nimisonafraasid.append(el.root.text)\n",
    "        \n",
    "    for el in margendatud.obl_phrases:\n",
    "        if el.root.upostag != 'P':\n",
    "            nimisonafraasid.append(el.root.text)\n",
    "        \n",
    "    for el in margendatud.obj_phrases:\n",
    "        if el.root.upostag != 'P':\n",
    "            nimisonafraasid.append(el.root.text)\n",
    "        \n",
    "    for el in margendatud.nmod_phrases:\n",
    "        if el.root.upostag != 'P':\n",
    "            nimisonafraasid.append(el.root.text)\n",
    "        \n",
    "    for el in margendatud.conj_phrases:\n",
    "        if el.root.upostag != 'P':\n",
    "            nimisonafraasid.append(el.root.text)\n",
    "        \n",
    "    for el in margendatud.root_phrases:\n",
    "        if el.root.upostag != 'P':\n",
    "            nimisonafraasid.append(el.root.text)\n",
    "        \n",
    "    for el in margendatud.appos_phrases:\n",
    "        if el.root.upostag != 'P':\n",
    "            nimisonafraasid.append(el.root.text)\n",
    "        \n",
    "    for el in margendatud.appos_phrases:\n",
    "        if el.root.upostag != 'P':\n",
    "            nimisonafraasid.append(el.root.text)\n",
    "        \n",
    "    for el in margendatud.iobj_phrases:\n",
    "        if el.root.upostag != 'P':\n",
    "            nimisonafraasid.append(el.root.text)\n",
    "        \n",
    "    nimisonafraasid = list(set(nimisonafraasid))\n",
    "    \n",
    "    result.append(nimisonafraasid)\n",
    "        "
   ]
  },
  {
   "cell_type": "code",
   "execution_count": 9,
   "id": "4460d8c4",
   "metadata": {},
   "outputs": [],
   "source": [
    "# Lisab leitud nimisõnafraasid tabelisse\n",
    "df.insert(8, \"N_phrases\", result, False)"
   ]
  },
  {
   "cell_type": "code",
   "execution_count": 10,
   "id": "0a01208b",
   "metadata": {},
   "outputs": [],
   "source": [
    "# Eemaldab juurde tekkinud index rea\n",
    "df = df.drop(columns=[\"Index\"])"
   ]
  },
  {
   "cell_type": "code",
   "execution_count": 11,
   "id": "70acc07d",
   "metadata": {},
   "outputs": [],
   "source": [
    "# Salvestab nimisõnafraasidega täiendatud tabeli faili 'lausesisesed_anafoorid_nimisonafraasidega.xlsx'\n",
    "writer = pd.ExcelWriter(\"lausesisesed_anafoorid_nimisonafraasidega.xlsx\", engine=\"xlsxwriter\", engine_kwargs={\"options\": {\"strings_to_formulas\": False}},\n",
    ")\n",
    "\n",
    "with writer as writer:\n",
    "    df.to_excel(writer)"
   ]
  }
 ],
 "metadata": {
  "kernelspec": {
   "display_name": "Python 3 (ipykernel)",
   "language": "python",
   "name": "python3"
  },
  "language_info": {
   "codemirror_mode": {
    "name": "ipython",
    "version": 3
   },
   "file_extension": ".py",
   "mimetype": "text/x-python",
   "name": "python",
   "nbconvert_exporter": "python",
   "pygments_lexer": "ipython3",
   "version": "3.11.5"
  }
 },
 "nbformat": 4,
 "nbformat_minor": 5
}
