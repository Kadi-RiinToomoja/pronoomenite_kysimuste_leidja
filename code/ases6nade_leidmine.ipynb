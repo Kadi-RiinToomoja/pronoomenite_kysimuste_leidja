{
 "cells": [
  {
   "cell_type": "markdown",
   "id": "de98ea82",
   "metadata": {},
   "source": [
    "# Asesõnade leidmine lausetest"
   ]
  },
  {
   "cell_type": "markdown",
   "id": "3717455b",
   "metadata": {},
   "source": [
    "Kood, mis vajab sisendiks faili '100000_random_sentences.csv' ja annab väljundiks faili 'asesonad_lausetes.xlsx'. \\\n",
    "\\\n",
    "Sisendfail '**100000_random_sentences.csv**', sisaldab 100 000 juhuslikku lauset eesti keele koondkorpusest. Failis olevad andmed on jaotatud tulpadesse 'sentence_id', 'document_id', 'sentence_start', 'sentence_end', 'subcorpus' ja 'text'. Antud töö jaoks huvitab meid ainult tulp 'text', mis sisaldab lauseid. \\\n",
    "\\\n",
    "Väljundfail '**asesonad_lausetes.xlsx**', sisaldab 10 000 suvalist sisendfailist saadud lauset, milles leidub asesõna/asesõnu.\n",
    "Tulpade tähendused:\n",
    "* **Index** - lause järjekorra index (al 1),\n",
    "* **pronoun** - lauses leiduv asesõna,\n",
    "* **pronoun lemma** - lauses leiduva asesõna lemma,\n",
    "* **pronoun sentence** - lause, kus selles leiduv asesõna on ümbritsetud topelt tärnidega - **<asesõna>**.\n"
   ]
  },
  {
   "cell_type": "code",
   "execution_count": 1,
   "id": "6a3fde3c",
   "metadata": {},
   "outputs": [],
   "source": [
    "# Vajalike teekide import\n",
    "import estnltk\n",
    "from estnltk import Text\n",
    "import pandas as pd\n",
    "import csv"
   ]
  },
  {
   "cell_type": "code",
   "execution_count": 2,
   "id": "261be8ad",
   "metadata": {},
   "outputs": [],
   "source": [
    "# Funktsioon, mis võtab vastu Text-tüüpi objekti ja tagastab selles leiduvad asesõnad, nende lemmad ja \n",
    "# nende morfoloogilise analüüsi\n",
    "def get_pronoun_info(row):\n",
    "    pronoun_text = [word.text for word in row.words if 'P' in word.morph_analysis.partofspeech]\n",
    "    pronoun_lemma = [word.morph_analysis.lemma for word in row.words if 'P' in word.morph_analysis.partofspeech]\n",
    "    pronoun_morph_analysis = [word.morph_analysis for word in row.words if 'P' in word.morph_analysis.partofspeech]\n",
    "    return pronoun_text, pronoun_lemma, pronoun_morph_analysis"
   ]
  },
  {
   "cell_type": "code",
   "execution_count": 3,
   "id": "4d5a2526",
   "metadata": {},
   "outputs": [],
   "source": [
    "# Funktsioon, mis võtab vastu Dataframe'i rea ja tagastab 'object' ja 'pronoun morph' tulbast kokku pandud lause, \n",
    "# kus asesõna on ära tähistatud formaadis -**<asesõna>**\n",
    "# 'object' tulp sisaldab morfoloogilise analüüsiga lauseid\n",
    "# 'pronoun morph' tulp sisaldab morfoloogilise analüüsiga lauses leiduvat asesõna\n",
    "def mark_pronoun(row):\n",
    "        annotated_text = \"{} **{}** {}\".format(\n",
    "        row['object'].text[:row['pronoun morph'].start],\n",
    "        row['pronoun morph'].text,\n",
    "        row['object'].text[row['pronoun morph'].end:])\n",
    "        return annotated_text"
   ]
  },
  {
   "cell_type": "code",
   "execution_count": 6,
   "id": "5a844a2b",
   "metadata": {},
   "outputs": [],
   "source": [
    "# Loeb lausete faili sisse\n",
    "input=pd.read_csv(\"100000_random_sentences.csv\")"
   ]
  },
  {
   "cell_type": "code",
   "execution_count": 8,
   "id": "c87ea948",
   "metadata": {},
   "outputs": [],
   "source": [
    "# Teeb lausete tulbast koopia tulemuste tabeli jaoks\n",
    "result = input[['text']].copy()"
   ]
  },
  {
   "cell_type": "code",
   "execution_count": 9,
   "id": "b0161977",
   "metadata": {},
   "outputs": [],
   "source": [
    "# Loob juurde morfoloogilise analüüsiga märgendatud lausete tulba\n",
    "result['object'] = result['text'].apply(lambda text: Text(text).tag_layer('morph_analysis'))"
   ]
  },
  {
   "cell_type": "code",
   "execution_count": 10,
   "id": "5dc7b81f",
   "metadata": {},
   "outputs": [],
   "source": [
    "# Loob juurde asesõnade teksti, lemma ja morfoloogilise analüüsi tulba kasutades funktsiooni 'get_pronoun_info(text)'\n",
    "result[['pronoun','pronoun lemma', 'pronoun morph']] = result['object'].apply(lambda text: pd.Series(get_pronoun_info(text)))"
   ]
  },
  {
   "cell_type": "code",
   "execution_count": 11,
   "id": "696d738b",
   "metadata": {},
   "outputs": [],
   "source": [
    "# Eemaldame read lausetega, milles ei leidu asesõnu\n",
    "result= result[result['pronoun'].map(lambda x: len(x)) > 0]"
   ]
  },
  {
   "cell_type": "code",
   "execution_count": null,
   "id": "5d114fdc",
   "metadata": {
    "scrolled": true
   },
   "outputs": [],
   "source": [
    "# Võtab 10 000 suvalist kirjet\n",
    "result = result.sample(n=10000, random_state=32)"
   ]
  },
  {
   "cell_type": "code",
   "execution_count": null,
   "id": "706c4722",
   "metadata": {},
   "outputs": [],
   "source": [
    "# Jagab iga asesõna (ja selle lemma ja morfoloogilise analüüsi) eraldi reale\n",
    "result = result.explode(['pronoun', 'pronoun lemma', 'pronoun morph'])"
   ]
  },
  {
   "cell_type": "code",
   "execution_count": null,
   "id": "c409d6ca",
   "metadata": {
    "scrolled": true
   },
   "outputs": [],
   "source": [
    "# Loob juurde tulba, kus asesõna on lauses tähistatud\n",
    "result['pronoun sentence'] = result.apply(mark_pronoun, axis=1)"
   ]
  },
  {
   "cell_type": "code",
   "execution_count": null,
   "id": "a8fbfea9",
   "metadata": {},
   "outputs": [],
   "source": [
    "# Lisab tulemuste tabelile indexi tulba\n",
    "result['Index'] = range(1, len(result) + 1)\n",
    "result.set_index('Index', inplace=True)"
   ]
  },
  {
   "cell_type": "code",
   "execution_count": null,
   "id": "2859371c",
   "metadata": {
    "scrolled": true
   },
   "outputs": [],
   "source": [
    "# Eemaldab ebavajalikud tulbad\n",
    "result = result.drop(['text', 'object', 'pronoun morph'], axis=1) "
   ]
  },
  {
   "cell_type": "code",
   "execution_count": null,
   "id": "224b7dc4",
   "metadata": {},
   "outputs": [],
   "source": [
    "# Salvestab saadud tulemuste tabeli faili 'asesonad_lausetes.xlsx'\n",
    "writer = pd.ExcelWriter(\"asesonad_lausetes.xlsx\", engine=\"xlsxwriter\", engine_kwargs={\"options\": {\"strings_to_formulas\": False}},\n",
    ")\n",
    "\n",
    "with writer as writer:\n",
    "    result.to_excel(writer)"
   ]
  }
 ],
 "metadata": {
  "kernelspec": {
   "display_name": "Python 3 (ipykernel)",
   "language": "python",
   "name": "python3"
  },
  "language_info": {
   "codemirror_mode": {
    "name": "ipython",
    "version": 3
   },
   "file_extension": ".py",
   "mimetype": "text/x-python",
   "name": "python",
   "nbconvert_exporter": "python",
   "pygments_lexer": "ipython3",
   "version": "3.11.5"
  }
 },
 "nbformat": 4,
 "nbformat_minor": 5
}
