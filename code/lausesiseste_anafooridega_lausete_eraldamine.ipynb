{
 "cells": [
  {
   "cell_type": "markdown",
   "id": "08eeedc0",
   "metadata": {},
   "source": [
    "# Lausesiseste anafooridega lausete eraldamine"
   ]
  },
  {
   "cell_type": "markdown",
   "id": "a87a86a0",
   "metadata": {},
   "source": [
    "Kood, mis vajab sisendiks faili 'asesonad_lausetes_margendatud.xlsx' ja annab väljundiks faili 'lausesisesed_anafoorid.xlsx'. \\\n",
    "\\\n",
    "Sisendfail '**asesonad_lausetes_margendatud.xlsx**', sisaldab asesõnadega lauseid, millest esimesed 4000 on käsitsi märgendatud (ülejäänud on märgendamata).  \\\n",
    "\\\n",
    "Väljundfail '**lausesisesed_anafoorid.xlsx**', sisaldab ainult lausesisese anafoori märgendusega ('1') lauseid failist 'asesonad_lausetes_margendatud.xlsx'. \\\n",
    "\\\n",
    "Mõlema faili puhul on andmed jaotatud järgmistesse tulpadesse:\n",
    "* **Index** - lause indeks (failis 'lausesisesed_anafoorid.xlsx' on kõik indeksid ühe võrra väiksemad kui failis 'asesonad_lausetes_margendatud.xlsx'), \n",
    "* **Label** - käsitsi lisatud märgend, mis näitab, kas anafoor on lausesisene ('1'), lauseväline ('2') või pole tegemist anafooriga ('0'). Samuti leidub failis ka märgendusega '-1' lauseid (s.t tegu on veaga/märgitud sõna pole asesõna) ja märgendusega '3', kus olenevalt lause tõlegndusest võib, anafoor olla nii lausesisene kui ka väline,\n",
    "* **pronoun** - lauses leiduv asesõna,\n",
    "* **pronoun lemma** - lauses leiduva asesõna lemma,\n",
    "* **pronoun sentence** - lause, kus selles leiduv asesõna on ümbritsetud topelt tärnidega - \\*\\*<asesõna>\\*\\*."
   ]
  },
  {
   "cell_type": "code",
   "execution_count": 33,
   "id": "666c7cad",
   "metadata": {},
   "outputs": [],
   "source": [
    "# Vajalike teekide import\n",
    "import pandas as pd"
   ]
  },
  {
   "cell_type": "code",
   "execution_count": 34,
   "id": "89249c7a",
   "metadata": {},
   "outputs": [],
   "source": [
    "# Loeb sisse andmed käsitsi märgendatud lausetega Excel-failist nimega 'asesonad_lausetes_margendatud.xlsx'\n",
    "df = pd.read_excel('asesonad_lausetes_margendatud.xlsx')"
   ]
  },
  {
   "cell_type": "code",
   "execution_count": 35,
   "id": "034cc954",
   "metadata": {
    "scrolled": true
   },
   "outputs": [],
   "source": [
    "# Eemaldab märgendamata read\n",
    "df = df[df['Label'].notna()]"
   ]
  },
  {
   "cell_type": "code",
   "execution_count": 36,
   "id": "6bd23643",
   "metadata": {},
   "outputs": [],
   "source": [
    "# Võtab välja read, kus 'Label' tulba väärtus on 1 (ehk tegemist on lausesisese anafooriga)\n",
    "result= df[df['Label'].map(lambda x: x) == 1]"
   ]
  },
  {
   "cell_type": "code",
   "execution_count": 38,
   "id": "fa3a0310",
   "metadata": {},
   "outputs": [],
   "source": [
    "# Eemaldab 'Index' tulba\n",
    "result = result.drop('Index', axis=1)"
   ]
  },
  {
   "cell_type": "code",
   "execution_count": 39,
   "id": "35bbb0e1",
   "metadata": {},
   "outputs": [],
   "source": [
    "# Salvestab välja võetud lausesisesed anafoorid uude Excel-faili nimega 'lausesisesed_anafoorid.xlsx'\n",
    "writer = pd.ExcelWriter(\"lausesisesed_anafoorid.xlsx\", engine=\"xlsxwriter\", engine_kwargs={\"options\": {\"strings_to_formulas\": False}},\n",
    ")\n",
    "\n",
    "with writer as writer:\n",
    "    result.to_excel(writer)"
   ]
  }
 ],
 "metadata": {
  "kernelspec": {
   "display_name": "Python 3 (ipykernel)",
   "language": "python",
   "name": "python3"
  },
  "language_info": {
   "codemirror_mode": {
    "name": "ipython",
    "version": 3
   },
   "file_extension": ".py",
   "mimetype": "text/x-python",
   "name": "python",
   "nbconvert_exporter": "python",
   "pygments_lexer": "ipython3",
   "version": "3.11.5"
  }
 },
 "nbformat": 4,
 "nbformat_minor": 5
}
